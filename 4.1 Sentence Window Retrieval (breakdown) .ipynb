{
  "cells": [
    {
      "cell_type": "code",
      "source": [
        "! pip install openai langchain\n",
        "! pip install llama_index llama-index-embeddings-huggingface\n",
        "! pip install trulens-eval"
      ],
      "metadata": {
        "id": "FdvK6lWGVxUU"
      },
      "id": "FdvK6lWGVxUU",
      "execution_count": null,
      "outputs": []
    },
    {
      "cell_type": "code",
      "source": [
        "from IPython.display import HTML, display\n",
        "\n",
        "def set_css():\n",
        "  display(HTML('''\n",
        "  <style>\n",
        "    pre {\n",
        "        white-space: pre-wrap;\n",
        "    }\n",
        "  </style>\n",
        "  '''))\n",
        "get_ipython().events.register('pre_run_cell', set_css)"
      ],
      "metadata": {
        "id": "YAjb262yXca_",
        "colab": {
          "base_uri": "https://localhost:8080/",
          "height": 17
        },
        "outputId": "b19bbaf5-dd0f-4e0a-c3af-07548bfd454f"
      },
      "id": "YAjb262yXca_",
      "execution_count": null,
      "outputs": [
        {
          "output_type": "display_data",
          "data": {
            "text/plain": [
              "<IPython.core.display.HTML object>"
            ],
            "text/html": [
              "\n",
              "  <style>\n",
              "    pre {\n",
              "        white-space: pre-wrap;\n",
              "    }\n",
              "  </style>\n",
              "  "
            ]
          },
          "metadata": {}
        }
      ]
    },
    {
      "cell_type": "code",
      "source": [
        "%load_ext autoreload\n",
        "%autoreload 2"
      ],
      "metadata": {
        "id": "iSgKz4EUjxpa",
        "colab": {
          "base_uri": "https://localhost:8080/",
          "height": 54
        },
        "outputId": "3e420262-73a1-4e0e-8307-03fc7c25e130"
      },
      "id": "iSgKz4EUjxpa",
      "execution_count": null,
      "outputs": [
        {
          "output_type": "display_data",
          "data": {
            "text/plain": [
              "<IPython.core.display.HTML object>"
            ],
            "text/html": [
              "\n",
              "  <style>\n",
              "    pre {\n",
              "        white-space: pre-wrap;\n",
              "    }\n",
              "  </style>\n",
              "  "
            ]
          },
          "metadata": {}
        },
        {
          "output_type": "display_data",
          "data": {
            "text/plain": [
              "<IPython.core.display.HTML object>"
            ],
            "text/html": [
              "\n",
              "  <style>\n",
              "    pre {\n",
              "        white-space: pre-wrap;\n",
              "    }\n",
              "  </style>\n",
              "  "
            ]
          },
          "metadata": {}
        },
        {
          "output_type": "stream",
          "name": "stdout",
          "text": [
            "The autoreload extension is already loaded. To reload it, use:\n",
            "  %reload_ext autoreload\n"
          ]
        }
      ]
    },
    {
      "cell_type": "code",
      "source": [
        "from google.colab import drive\n",
        "drive.mount('/content/drive')"
      ],
      "metadata": {
        "colab": {
          "base_uri": "https://localhost:8080/",
          "height": 54
        },
        "id": "frS63YyqjyTd",
        "outputId": "1e410b23-03fd-48d2-8cce-30be7eada2c7"
      },
      "id": "frS63YyqjyTd",
      "execution_count": null,
      "outputs": [
        {
          "output_type": "display_data",
          "data": {
            "text/plain": [
              "<IPython.core.display.HTML object>"
            ],
            "text/html": [
              "\n",
              "  <style>\n",
              "    pre {\n",
              "        white-space: pre-wrap;\n",
              "    }\n",
              "  </style>\n",
              "  "
            ]
          },
          "metadata": {}
        },
        {
          "output_type": "display_data",
          "data": {
            "text/plain": [
              "<IPython.core.display.HTML object>"
            ],
            "text/html": [
              "\n",
              "  <style>\n",
              "    pre {\n",
              "        white-space: pre-wrap;\n",
              "    }\n",
              "  </style>\n",
              "  "
            ]
          },
          "metadata": {}
        },
        {
          "output_type": "stream",
          "name": "stdout",
          "text": [
            "Drive already mounted at /content/drive; to attempt to forcibly remount, call drive.mount(\"/content/drive\", force_remount=True).\n"
          ]
        }
      ]
    },
    {
      "cell_type": "code",
      "source": [],
      "metadata": {
        "id": "e6YVoh4KXkVi"
      },
      "id": "e6YVoh4KXkVi",
      "execution_count": null,
      "outputs": []
    },
    {
      "cell_type": "code",
      "source": [],
      "metadata": {
        "id": "Uzf93WG557oT"
      },
      "id": "Uzf93WG557oT",
      "execution_count": null,
      "outputs": []
    },
    {
      "cell_type": "markdown",
      "source": [
        "### SET ENVIRONMENT VARIABLES:"
      ],
      "metadata": {
        "id": "vTur7hxr5799"
      },
      "id": "vTur7hxr5799"
    },
    {
      "cell_type": "code",
      "source": [
        "import os\n",
        "from google.colab import userdata\n",
        "\n",
        "def get_openai_api_key():\n",
        "    os.environ[\"OPENAI_API_KEY\"] = userdata.get('OPENAI_API_KEY')\n",
        "    return os.getenv(\"OPENAI_API_KEY\")\n",
        "\n",
        "\n",
        "def get_hf_api_key():\n",
        "    os.environ[\"HUGGINGFACE_API_KEY\"] = userdata.get('HF_TOKEN')\n",
        "    return os.getenv(\"HUGGINGFACE_API_KEY\")"
      ],
      "metadata": {
        "colab": {
          "base_uri": "https://localhost:8080/",
          "height": 17
        },
        "id": "OyxJtiHh5o6O",
        "outputId": "3f76de73-c7af-4ac4-d6d9-3b768b8b76fd"
      },
      "id": "OyxJtiHh5o6O",
      "execution_count": null,
      "outputs": [
        {
          "output_type": "display_data",
          "data": {
            "text/plain": [
              "<IPython.core.display.HTML object>"
            ],
            "text/html": [
              "\n",
              "  <style>\n",
              "    pre {\n",
              "        white-space: pre-wrap;\n",
              "    }\n",
              "  </style>\n",
              "  "
            ]
          },
          "metadata": {}
        },
        {
          "output_type": "display_data",
          "data": {
            "text/plain": [
              "<IPython.core.display.HTML object>"
            ],
            "text/html": [
              "\n",
              "  <style>\n",
              "    pre {\n",
              "        white-space: pre-wrap;\n",
              "    }\n",
              "  </style>\n",
              "  "
            ]
          },
          "metadata": {}
        }
      ]
    },
    {
      "cell_type": "code",
      "source": [],
      "metadata": {
        "id": "0UkhHuIZBNZ7"
      },
      "id": "0UkhHuIZBNZ7",
      "execution_count": null,
      "outputs": []
    },
    {
      "cell_type": "code",
      "source": [],
      "metadata": {
        "id": "Xch0pUHdBNWk"
      },
      "id": "Xch0pUHdBNWk",
      "execution_count": null,
      "outputs": []
    },
    {
      "cell_type": "markdown",
      "source": [
        "# 1. EXPLORING THE WORKINGS OF WINDOW RETREIVAL COMPONENTS:"
      ],
      "metadata": {
        "id": "0KjmP60C1kgY"
      },
      "id": "0KjmP60C1kgY"
    },
    {
      "cell_type": "markdown",
      "source": [
        "### A. The SentenceWindowNodeParser:"
      ],
      "metadata": {
        "id": "qR46oizv2rF0"
      },
      "id": "qR46oizv2rF0"
    },
    {
      "cell_type": "code",
      "source": [
        "from llama_index.core import Document\n",
        "from llama_index.core.node_parser import SentenceWindowNodeParser"
      ],
      "metadata": {
        "id": "Ph9m-Jgd1_YX"
      },
      "id": "Ph9m-Jgd1_YX",
      "execution_count": null,
      "outputs": []
    },
    {
      "cell_type": "code",
      "source": [
        "window_size = 2\n",
        "\n",
        "node_parser = SentenceWindowNodeParser.from_defaults(\n",
        "        window_size = window_size,\n",
        "        window_metadata_key = \"window\",\n",
        "        original_text_metadata_key = \"original_text\",\n",
        "    )\n",
        "\n",
        "node_parser"
      ],
      "metadata": {
        "colab": {
          "base_uri": "https://localhost:8080/",
          "height": 91
        },
        "id": "QBEUg0TWr37x",
        "outputId": "ba0117ba-e06d-4e1a-b6c1-aba60dc7b8b6"
      },
      "id": "QBEUg0TWr37x",
      "execution_count": null,
      "outputs": [
        {
          "output_type": "display_data",
          "data": {
            "text/plain": [
              "<IPython.core.display.HTML object>"
            ],
            "text/html": [
              "\n",
              "  <style>\n",
              "    pre {\n",
              "        white-space: pre-wrap;\n",
              "    }\n",
              "  </style>\n",
              "  "
            ]
          },
          "metadata": {}
        },
        {
          "output_type": "execute_result",
          "data": {
            "text/plain": [
              "SentenceWindowNodeParser(include_metadata=True, include_prev_next_rel=True, callback_manager=<llama_index.core.callbacks.base.CallbackManager object at 0x79c37e02e3b0>, id_func=<function default_id_func at 0x79c450244d30>, sentence_splitter=<function split_by_sentence_tokenizer.<locals>.split at 0x79c37e027490>, window_size=2, window_metadata_key='window', original_text_metadata_key='original_text')"
            ]
          },
          "metadata": {},
          "execution_count": 66
        }
      ]
    },
    {
      "cell_type": "code",
      "source": [
        "txt = 'hello. how are you? I am fine. That is good to hear. I am good too!' # 5 sentences\n",
        "\n",
        "nodes = node_parser.get_nodes_from_documents([Document(text = txt)])"
      ],
      "metadata": {
        "colab": {
          "base_uri": "https://localhost:8080/",
          "height": 17
        },
        "id": "-TdyOEsRr34T",
        "outputId": "90d4cf69-7e55-4868-8174-13837da91aa4"
      },
      "id": "-TdyOEsRr34T",
      "execution_count": null,
      "outputs": [
        {
          "output_type": "display_data",
          "data": {
            "text/plain": [
              "<IPython.core.display.HTML object>"
            ],
            "text/html": [
              "\n",
              "  <style>\n",
              "    pre {\n",
              "        white-space: pre-wrap;\n",
              "    }\n",
              "  </style>\n",
              "  "
            ]
          },
          "metadata": {}
        }
      ]
    },
    {
      "cell_type": "code",
      "source": [
        "type(nodes)"
      ],
      "metadata": {
        "colab": {
          "base_uri": "https://localhost:8080/",
          "height": 35
        },
        "id": "PHlEeYNox_MC",
        "outputId": "333e0c05-3d52-43cb-9525-84cdc38420f0"
      },
      "id": "PHlEeYNox_MC",
      "execution_count": null,
      "outputs": [
        {
          "output_type": "display_data",
          "data": {
            "text/plain": [
              "<IPython.core.display.HTML object>"
            ],
            "text/html": [
              "\n",
              "  <style>\n",
              "    pre {\n",
              "        white-space: pre-wrap;\n",
              "    }\n",
              "  </style>\n",
              "  "
            ]
          },
          "metadata": {}
        },
        {
          "output_type": "execute_result",
          "data": {
            "text/plain": [
              "list"
            ]
          },
          "metadata": {},
          "execution_count": 50
        }
      ]
    },
    {
      "cell_type": "code",
      "source": [
        "len(nodes)"
      ],
      "metadata": {
        "colab": {
          "base_uri": "https://localhost:8080/",
          "height": 35
        },
        "id": "jB40sJEjyNvk",
        "outputId": "e953d016-f979-4cde-fa7e-4be76f6e45e7"
      },
      "id": "jB40sJEjyNvk",
      "execution_count": null,
      "outputs": [
        {
          "output_type": "display_data",
          "data": {
            "text/plain": [
              "<IPython.core.display.HTML object>"
            ],
            "text/html": [
              "\n",
              "  <style>\n",
              "    pre {\n",
              "        white-space: pre-wrap;\n",
              "    }\n",
              "  </style>\n",
              "  "
            ]
          },
          "metadata": {}
        },
        {
          "output_type": "execute_result",
          "data": {
            "text/plain": [
              "5"
            ]
          },
          "metadata": {},
          "execution_count": 68
        }
      ]
    },
    {
      "cell_type": "code",
      "source": [
        "type(nodes[0])"
      ],
      "metadata": {
        "colab": {
          "base_uri": "https://localhost:8080/",
          "height": 156
        },
        "id": "zmFO0Q4VyDgd",
        "outputId": "4f35752e-2be3-497d-8201-7db2bef38df7"
      },
      "id": "zmFO0Q4VyDgd",
      "execution_count": null,
      "outputs": [
        {
          "output_type": "display_data",
          "data": {
            "text/plain": [
              "<IPython.core.display.HTML object>"
            ],
            "text/html": [
              "\n",
              "  <style>\n",
              "    pre {\n",
              "        white-space: pre-wrap;\n",
              "    }\n",
              "  </style>\n",
              "  "
            ]
          },
          "metadata": {}
        },
        {
          "output_type": "execute_result",
          "data": {
            "text/plain": [
              "llama_index.core.schema.TextNode"
            ],
            "text/html": [
              "<div style=\"max-width:800px; border: 1px solid var(--colab-border-color);\"><style>\n",
              "      pre.function-repr-contents {\n",
              "        overflow-x: auto;\n",
              "        padding: 8px 12px;\n",
              "        max-height: 500px;\n",
              "      }\n",
              "\n",
              "      pre.function-repr-contents.function-repr-contents-collapsed {\n",
              "        cursor: pointer;\n",
              "        max-height: 100px;\n",
              "      }\n",
              "    </style>\n",
              "    <pre style=\"white-space: initial; background:\n",
              "         var(--colab-secondary-surface-color); padding: 8px 12px;\n",
              "         border-bottom: 1px solid var(--colab-border-color);\"><b>llama_index.core.schema.TextNode</b><br/>def __init__(__pydantic_self__, **data: Any) -&gt; None</pre><pre class=\"function-repr-contents function-repr-contents-collapsed\" style=\"\"><a class=\"filepath\" style=\"display:none\" href=\"#\">/usr/local/lib/python3.10/dist-packages/llama_index/core/schema.py</a>Base node Object.\n",
              "\n",
              "Generic abstract interface for retrievable nodes</pre>\n",
              "      <script>\n",
              "      if (google.colab.kernel.accessAllowed && google.colab.files && google.colab.files.view) {\n",
              "        for (const element of document.querySelectorAll('.filepath')) {\n",
              "          element.style.display = 'block'\n",
              "          element.onclick = (event) => {\n",
              "            event.preventDefault();\n",
              "            event.stopPropagation();\n",
              "            google.colab.files.view(element.textContent, 357);\n",
              "          };\n",
              "        }\n",
              "      }\n",
              "      for (const element of document.querySelectorAll('.function-repr-contents')) {\n",
              "        element.onclick = (event) => {\n",
              "          event.preventDefault();\n",
              "          event.stopPropagation();\n",
              "          element.classList.toggle('function-repr-contents-collapsed');\n",
              "        };\n",
              "      }\n",
              "      </script>\n",
              "      </div>"
            ]
          },
          "metadata": {},
          "execution_count": 52
        }
      ]
    },
    {
      "cell_type": "code",
      "source": [
        "nodes[0]"
      ],
      "metadata": {
        "colab": {
          "base_uri": "https://localhost:8080/",
          "height": 202
        },
        "id": "QwF3-o-TyI-5",
        "outputId": "189cc952-5661-4445-91b3-d8bede052a11"
      },
      "id": "QwF3-o-TyI-5",
      "execution_count": null,
      "outputs": [
        {
          "output_type": "display_data",
          "data": {
            "text/plain": [
              "<IPython.core.display.HTML object>"
            ],
            "text/html": [
              "\n",
              "  <style>\n",
              "    pre {\n",
              "        white-space: pre-wrap;\n",
              "    }\n",
              "  </style>\n",
              "  "
            ]
          },
          "metadata": {}
        },
        {
          "output_type": "execute_result",
          "data": {
            "text/plain": [
              "TextNode(id_='9b172235-5c49-4419-a14e-2d873883924e', embedding=None, metadata={'window': 'hello.  how are you?  I am fine. ', 'original_text': 'hello. '}, excluded_embed_metadata_keys=['window', 'original_text'], excluded_llm_metadata_keys=['window', 'original_text'], relationships={<NodeRelationship.SOURCE: '1'>: RelatedNodeInfo(node_id='67cc248c-488f-4a78-aad7-cc96b6f21a05', node_type=<ObjectType.DOCUMENT: '4'>, metadata={}, hash='31d6729954681d9227f9d6ee7fa74dd574bef67c7e05f8ded015bb781d9ae5c0'), <NodeRelationship.NEXT: '3'>: RelatedNodeInfo(node_id='c6271c05-18fc-4387-b93a-c08671071225', node_type=<ObjectType.TEXT: '1'>, metadata={'window': 'hello.  how are you?  I am fine.  That is good to hear. ', 'original_text': 'how are you? '}, hash='4e3923bc7fbc3db63920f513a68bb00e2e5b0c9b17ca50110aa6a0fd9c50b728')}, text='hello. ', start_char_idx=0, end_char_idx=7, text_template='{metadata_str}\\n\\n{content}', metadata_template='{key}: {value}', metadata_seperator='\\n')"
            ]
          },
          "metadata": {},
          "execution_count": 69
        }
      ]
    },
    {
      "cell_type": "code",
      "source": [
        "nodes[0].text"
      ],
      "metadata": {
        "colab": {
          "base_uri": "https://localhost:8080/",
          "height": 36
        },
        "id": "Zdxp8wNKykz0",
        "outputId": "b27e04d7-ca26-4ada-d5d3-ca3ec8d1a1ae"
      },
      "id": "Zdxp8wNKykz0",
      "execution_count": null,
      "outputs": [
        {
          "output_type": "display_data",
          "data": {
            "text/plain": [
              "<IPython.core.display.HTML object>"
            ],
            "text/html": [
              "\n",
              "  <style>\n",
              "    pre {\n",
              "        white-space: pre-wrap;\n",
              "    }\n",
              "  </style>\n",
              "  "
            ]
          },
          "metadata": {}
        },
        {
          "output_type": "execute_result",
          "data": {
            "text/plain": [
              "'hello. '"
            ],
            "application/vnd.google.colaboratory.intrinsic+json": {
              "type": "string"
            }
          },
          "metadata": {},
          "execution_count": 70
        }
      ]
    },
    {
      "cell_type": "code",
      "source": [
        "nodes[0].metadata"
      ],
      "metadata": {
        "colab": {
          "base_uri": "https://localhost:8080/",
          "height": 35
        },
        "id": "kGof1_lXysfM",
        "outputId": "b61e31a3-3802-4343-9e60-1cd7c72fa08a"
      },
      "id": "kGof1_lXysfM",
      "execution_count": null,
      "outputs": [
        {
          "output_type": "display_data",
          "data": {
            "text/plain": [
              "<IPython.core.display.HTML object>"
            ],
            "text/html": [
              "\n",
              "  <style>\n",
              "    pre {\n",
              "        white-space: pre-wrap;\n",
              "    }\n",
              "  </style>\n",
              "  "
            ]
          },
          "metadata": {}
        },
        {
          "output_type": "execute_result",
          "data": {
            "text/plain": [
              "{'window': 'hello.  how are you?  I am fine. ', 'original_text': 'hello. '}"
            ]
          },
          "metadata": {},
          "execution_count": 71
        }
      ]
    },
    {
      "cell_type": "code",
      "source": [],
      "metadata": {
        "id": "TBnWkEpWywrW"
      },
      "id": "TBnWkEpWywrW",
      "execution_count": null,
      "outputs": []
    },
    {
      "cell_type": "code",
      "source": [],
      "metadata": {
        "id": "JgbRyHLtywdT"
      },
      "id": "JgbRyHLtywdT",
      "execution_count": null,
      "outputs": []
    },
    {
      "cell_type": "code",
      "source": [
        "[x.text for x in nodes]"
      ],
      "metadata": {
        "colab": {
          "base_uri": "https://localhost:8080/",
          "height": 109
        },
        "id": "AGP_-QTPsNBV",
        "outputId": "0688d22d-c42f-4726-b17a-8dc83d183aa7"
      },
      "id": "AGP_-QTPsNBV",
      "execution_count": null,
      "outputs": [
        {
          "output_type": "display_data",
          "data": {
            "text/plain": [
              "<IPython.core.display.HTML object>"
            ],
            "text/html": [
              "\n",
              "  <style>\n",
              "    pre {\n",
              "        white-space: pre-wrap;\n",
              "    }\n",
              "  </style>\n",
              "  "
            ]
          },
          "metadata": {}
        },
        {
          "output_type": "execute_result",
          "data": {
            "text/plain": [
              "['hello. ',\n",
              " 'how are you? ',\n",
              " 'I am fine. ',\n",
              " 'That is good to hear. ',\n",
              " 'I am good too!']"
            ]
          },
          "metadata": {},
          "execution_count": 72
        }
      ]
    },
    {
      "cell_type": "code",
      "source": [
        "node_idx = 0\n",
        "\n",
        "original_text = nodes[node_idx].metadata['original_text']\n",
        "window = nodes[0].metadata['window']\n",
        "\n",
        "print(f'original_text: {original_text}')\n",
        "print(f'window: {window}')"
      ],
      "metadata": {
        "colab": {
          "base_uri": "https://localhost:8080/",
          "height": 54
        },
        "id": "aERxzCx6sM-B",
        "outputId": "73c57a3d-68a3-4daf-9f6c-e8800b2a0981"
      },
      "id": "aERxzCx6sM-B",
      "execution_count": null,
      "outputs": [
        {
          "output_type": "display_data",
          "data": {
            "text/plain": [
              "<IPython.core.display.HTML object>"
            ],
            "text/html": [
              "\n",
              "  <style>\n",
              "    pre {\n",
              "        white-space: pre-wrap;\n",
              "    }\n",
              "  </style>\n",
              "  "
            ]
          },
          "metadata": {}
        },
        {
          "output_type": "stream",
          "name": "stdout",
          "text": [
            "original_text: hello. \n",
            "window: hello.  how are you?  I am fine. \n"
          ]
        }
      ]
    },
    {
      "cell_type": "code",
      "source": [
        "node_idx = 2\n",
        "\n",
        "original_text = nodes[node_idx].metadata['original_text']\n",
        "window = nodes[0].metadata['window']\n",
        "\n",
        "print(f'original_text: {original_text}')\n",
        "print(f'window: {window}')"
      ],
      "metadata": {
        "colab": {
          "base_uri": "https://localhost:8080/",
          "height": 54
        },
        "id": "OwFH5cm0sM7d",
        "outputId": "b781cf6c-0c72-4ae7-e614-d2b509f71304"
      },
      "id": "OwFH5cm0sM7d",
      "execution_count": null,
      "outputs": [
        {
          "output_type": "display_data",
          "data": {
            "text/plain": [
              "<IPython.core.display.HTML object>"
            ],
            "text/html": [
              "\n",
              "  <style>\n",
              "    pre {\n",
              "        white-space: pre-wrap;\n",
              "    }\n",
              "  </style>\n",
              "  "
            ]
          },
          "metadata": {}
        },
        {
          "output_type": "stream",
          "name": "stdout",
          "text": [
            "original_text: I am fine. \n",
            "window: hello.  how are you?  I am fine. \n"
          ]
        }
      ]
    },
    {
      "cell_type": "code",
      "source": [
        "node_idx = -1\n",
        "\n",
        "original_text = nodes[node_idx].metadata['original_text']\n",
        "window = nodes[0].metadata['window']\n",
        "\n",
        "print(f'original_text: {original_text}')\n",
        "print(f'window: {window}')"
      ],
      "metadata": {
        "colab": {
          "base_uri": "https://localhost:8080/",
          "height": 54
        },
        "id": "Fg8cibABsM5P",
        "outputId": "472f0703-727b-4352-b11c-c381901ff701"
      },
      "id": "Fg8cibABsM5P",
      "execution_count": null,
      "outputs": [
        {
          "output_type": "display_data",
          "data": {
            "text/plain": [
              "<IPython.core.display.HTML object>"
            ],
            "text/html": [
              "\n",
              "  <style>\n",
              "    pre {\n",
              "        white-space: pre-wrap;\n",
              "    }\n",
              "  </style>\n",
              "  "
            ]
          },
          "metadata": {}
        },
        {
          "output_type": "stream",
          "name": "stdout",
          "text": [
            "original_text: I am good too!\n",
            "window: hello.  how are you?  I am fine. \n"
          ]
        }
      ]
    },
    {
      "cell_type": "code",
      "source": [],
      "metadata": {
        "id": "cWitiO3OBkIq"
      },
      "id": "cWitiO3OBkIq",
      "execution_count": null,
      "outputs": []
    },
    {
      "cell_type": "code",
      "source": [],
      "metadata": {
        "id": "-CdEy1gxKvuI"
      },
      "id": "-CdEy1gxKvuI",
      "execution_count": null,
      "outputs": []
    },
    {
      "cell_type": "code",
      "source": [],
      "metadata": {
        "id": "w46CdZB2KvsF"
      },
      "id": "w46CdZB2KvsF",
      "execution_count": null,
      "outputs": []
    },
    {
      "cell_type": "markdown",
      "source": [
        "### B. The MetadataReplacementPostProcessor:\n",
        "This takes a value stored in the metadata and replaces a node text with that value.     \n",
        "This is done after retreiving the nodes and before sending the nodes to the LLM."
      ],
      "metadata": {
        "id": "JtJW62lFMWPl"
      },
      "id": "JtJW62lFMWPl"
    },
    {
      "cell_type": "code",
      "source": [
        "from llama_index.core.indices.postprocessor import MetadataReplacementPostProcessor\n",
        "\n",
        "postproc = MetadataReplacementPostProcessor(\n",
        "    target_metadata_key=\"window\"\n",
        ")"
      ],
      "metadata": {
        "colab": {
          "base_uri": "https://localhost:8080/",
          "height": 17
        },
        "id": "T2HBAbdBKvop",
        "outputId": "68a46854-5a22-41cb-fd08-7dea0b2ee05d"
      },
      "id": "T2HBAbdBKvop",
      "execution_count": null,
      "outputs": [
        {
          "output_type": "display_data",
          "data": {
            "text/plain": [
              "<IPython.core.display.HTML object>"
            ],
            "text/html": [
              "\n",
              "  <style>\n",
              "    pre {\n",
              "        white-space: pre-wrap;\n",
              "    }\n",
              "  </style>\n",
              "  "
            ]
          },
          "metadata": {}
        }
      ]
    },
    {
      "cell_type": "code",
      "source": [
        "from llama_index.core.schema import NodeWithScore\n",
        "from copy import deepcopy\n",
        "\n",
        "scored_nodes = [NodeWithScore(node=x, score=1.0) for x in nodes] # From previous example sentence\n",
        "nodes_old = [deepcopy(n) for n in nodes]"
      ],
      "metadata": {
        "colab": {
          "base_uri": "https://localhost:8080/",
          "height": 17
        },
        "id": "r4H4bqcz1v2B",
        "outputId": "bf17c0e2-f7d0-4049-c8a8-c6518f67aee8"
      },
      "id": "r4H4bqcz1v2B",
      "execution_count": null,
      "outputs": [
        {
          "output_type": "display_data",
          "data": {
            "text/plain": [
              "<IPython.core.display.HTML object>"
            ],
            "text/html": [
              "\n",
              "  <style>\n",
              "    pre {\n",
              "        white-space: pre-wrap;\n",
              "    }\n",
              "  </style>\n",
              "  "
            ]
          },
          "metadata": {}
        }
      ]
    },
    {
      "cell_type": "code",
      "source": [
        "nodes_old[1].text"
      ],
      "metadata": {
        "colab": {
          "base_uri": "https://localhost:8080/",
          "height": 36
        },
        "id": "ISTW33hv4Rqj",
        "outputId": "4ea09423-eccc-463b-cf8a-fe2b54b61c85"
      },
      "id": "ISTW33hv4Rqj",
      "execution_count": null,
      "outputs": [
        {
          "output_type": "display_data",
          "data": {
            "text/plain": [
              "<IPython.core.display.HTML object>"
            ],
            "text/html": [
              "\n",
              "  <style>\n",
              "    pre {\n",
              "        white-space: pre-wrap;\n",
              "    }\n",
              "  </style>\n",
              "  "
            ]
          },
          "metadata": {}
        },
        {
          "output_type": "execute_result",
          "data": {
            "text/plain": [
              "'how are you? '"
            ],
            "application/vnd.google.colaboratory.intrinsic+json": {
              "type": "string"
            }
          },
          "metadata": {},
          "execution_count": 126
        }
      ]
    },
    {
      "cell_type": "code",
      "source": [
        "replaced_nodes = postproc.postprocess_nodes(scored_nodes)\n",
        "\n",
        "replaced_nodes[1].text"
      ],
      "metadata": {
        "colab": {
          "base_uri": "https://localhost:8080/",
          "height": 36
        },
        "id": "vRauSb-NACNt",
        "outputId": "2e4ad270-4f22-4e83-82ba-414ba4c0d14c"
      },
      "id": "vRauSb-NACNt",
      "execution_count": null,
      "outputs": [
        {
          "output_type": "display_data",
          "data": {
            "text/plain": [
              "<IPython.core.display.HTML object>"
            ],
            "text/html": [
              "\n",
              "  <style>\n",
              "    pre {\n",
              "        white-space: pre-wrap;\n",
              "    }\n",
              "  </style>\n",
              "  "
            ]
          },
          "metadata": {}
        },
        {
          "output_type": "execute_result",
          "data": {
            "text/plain": [
              "'hello.  how are you?  I am fine.  That is good to hear. '"
            ],
            "application/vnd.google.colaboratory.intrinsic+json": {
              "type": "string"
            }
          },
          "metadata": {},
          "execution_count": 127
        }
      ]
    },
    {
      "cell_type": "code",
      "source": [],
      "metadata": {
        "id": "pmJDJmPFACKq"
      },
      "id": "pmJDJmPFACKq",
      "execution_count": null,
      "outputs": []
    },
    {
      "cell_type": "code",
      "source": [],
      "metadata": {
        "id": "lv2dsr30ACH6"
      },
      "id": "lv2dsr30ACH6",
      "execution_count": null,
      "outputs": []
    },
    {
      "cell_type": "code",
      "source": [],
      "metadata": {
        "id": "nxV5r8JUXFMI"
      },
      "id": "nxV5r8JUXFMI",
      "execution_count": null,
      "outputs": []
    },
    {
      "cell_type": "markdown",
      "source": [
        "### C. The SentenceTransformerRerank model:"
      ],
      "metadata": {
        "id": "qPa32uU3PIbB"
      },
      "id": "qPa32uU3PIbB"
    },
    {
      "cell_type": "code",
      "source": [
        "from llama_index.core.indices.postprocessor import SentenceTransformerRerank\n",
        "\n",
        "# BAAI/bge-reranker-base\n",
        "# link: https://huggingface.co/BAAI/bge-reranker-base\n",
        "rerank = SentenceTransformerRerank(\n",
        "    top_n=2, model=\"BAAI/bge-reranker-base\"\n",
        ")"
      ],
      "metadata": {
        "colab": {
          "base_uri": "https://localhost:8080/",
          "height": 17
        },
        "id": "NZvfFu3dACEp",
        "outputId": "da9f46fc-17ea-4379-f5f2-1eeef46ab83d"
      },
      "id": "NZvfFu3dACEp",
      "execution_count": null,
      "outputs": [
        {
          "output_type": "display_data",
          "data": {
            "text/plain": [
              "<IPython.core.display.HTML object>"
            ],
            "text/html": [
              "\n",
              "  <style>\n",
              "    pre {\n",
              "        white-space: pre-wrap;\n",
              "    }\n",
              "  </style>\n",
              "  "
            ]
          },
          "metadata": {}
        }
      ]
    },
    {
      "cell_type": "code",
      "source": [
        "from llama_index.core import QueryBundle\n",
        "from llama_index.core.schema import TextNode, NodeWithScore\n",
        "\n",
        "query = QueryBundle(\"I want a dog.\")\n",
        "\n",
        "# node with \"dog\" in text should have a higher score, but here it is not so,\n",
        "# the reranker corrects this\n",
        "\n",
        "scored_nodes = [\n",
        "    NodeWithScore(node=TextNode(text=\"This is a cat\"), score=0.6),\n",
        "    NodeWithScore(node=TextNode(text=\"This is a dog\"), score=0.4),\n",
        "]"
      ],
      "metadata": {
        "colab": {
          "base_uri": "https://localhost:8080/",
          "height": 17
        },
        "id": "VyPrzUkO1vp3",
        "outputId": "7650268f-b1cd-4f38-efd2-b9228e227ad3"
      },
      "id": "VyPrzUkO1vp3",
      "execution_count": null,
      "outputs": [
        {
          "output_type": "display_data",
          "data": {
            "text/plain": [
              "<IPython.core.display.HTML object>"
            ],
            "text/html": [
              "\n",
              "  <style>\n",
              "    pre {\n",
              "        white-space: pre-wrap;\n",
              "    }\n",
              "  </style>\n",
              "  "
            ]
          },
          "metadata": {}
        }
      ]
    },
    {
      "cell_type": "code",
      "source": [
        "reranked_nodes = rerank.postprocess_nodes(\n",
        "    scored_nodes, query_bundle=query\n",
        ")"
      ],
      "metadata": {
        "colab": {
          "base_uri": "https://localhost:8080/",
          "height": 17
        },
        "id": "FVzswd8J1vnl",
        "outputId": "02211af8-1175-478e-a5fa-fb680628fcc9"
      },
      "id": "FVzswd8J1vnl",
      "execution_count": null,
      "outputs": [
        {
          "output_type": "display_data",
          "data": {
            "text/plain": [
              "<IPython.core.display.HTML object>"
            ],
            "text/html": [
              "\n",
              "  <style>\n",
              "    pre {\n",
              "        white-space: pre-wrap;\n",
              "    }\n",
              "  </style>\n",
              "  "
            ]
          },
          "metadata": {}
        }
      ]
    },
    {
      "cell_type": "code",
      "source": [
        "print([(x.text, x.score) for x in reranked_nodes])"
      ],
      "metadata": {
        "colab": {
          "base_uri": "https://localhost:8080/",
          "height": 35
        },
        "id": "LEnKj7SY1vlI",
        "outputId": "78ab4f48-377f-4866-a409-79a174da8ee4"
      },
      "id": "LEnKj7SY1vlI",
      "execution_count": null,
      "outputs": [
        {
          "output_type": "display_data",
          "data": {
            "text/plain": [
              "<IPython.core.display.HTML object>"
            ],
            "text/html": [
              "\n",
              "  <style>\n",
              "    pre {\n",
              "        white-space: pre-wrap;\n",
              "    }\n",
              "  </style>\n",
              "  "
            ]
          },
          "metadata": {}
        },
        {
          "output_type": "stream",
          "name": "stdout",
          "text": [
            "[('This is a dog', 0.9182736), ('This is a cat', 0.0014040753)]\n"
          ]
        }
      ]
    },
    {
      "cell_type": "code",
      "source": [],
      "metadata": {
        "id": "58qu2B-X1vhY"
      },
      "id": "58qu2B-X1vhY",
      "execution_count": null,
      "outputs": []
    },
    {
      "cell_type": "code",
      "source": [],
      "metadata": {
        "id": "GVCEfdLWWQhX"
      },
      "id": "GVCEfdLWWQhX",
      "execution_count": null,
      "outputs": []
    },
    {
      "cell_type": "code",
      "source": [],
      "metadata": {
        "id": "sNMu5KWe43D8"
      },
      "id": "sNMu5KWe43D8",
      "execution_count": null,
      "outputs": []
    }
  ],
  "metadata": {
    "kernelspec": {
      "display_name": "Python 3 (ipykernel)",
      "language": "python",
      "name": "python3"
    },
    "language_info": {
      "codemirror_mode": {
        "name": "ipython",
        "version": 3
      },
      "file_extension": ".py",
      "mimetype": "text/x-python",
      "name": "python",
      "nbconvert_exporter": "python",
      "pygments_lexer": "ipython3",
      "version": "3.10.13"
    },
    "colab": {
      "provenance": []
    }
  },
  "nbformat": 4,
  "nbformat_minor": 5
}